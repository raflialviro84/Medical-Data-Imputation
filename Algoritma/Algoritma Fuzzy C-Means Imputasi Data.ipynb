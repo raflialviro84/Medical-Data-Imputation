{
  "cells": [
    {
      "cell_type": "code",
      "execution_count": null,
      "metadata": {
        "colab": {
          "base_uri": "https://localhost:8080/"
        },
        "collapsed": true,
        "id": "UiucY_Aukw_q",
        "outputId": "501caa1f-5c6e-467e-c1e8-b477a6572497"
      },
      "outputs": [],
      "source": [
        "!pip install flask-ngrok"
      ]
    },
    {
      "cell_type": "code",
      "execution_count": null,
      "metadata": {
        "colab": {
          "base_uri": "https://localhost:8080/"
        },
        "collapsed": true,
        "id": "5-p_SZT4Afgp",
        "outputId": "33108103-a679-4dad-b93f-d7bbd17b0880"
      },
      "outputs": [],
      "source": [
        "!pip install pandas numpy scikit-fuzzy openpyxl\n"
      ]
    },
    {
      "cell_type": "code",
      "execution_count": null,
      "metadata": {
        "id": "zOKlxFw6AnEQ"
      },
      "outputs": [],
      "source": [
        "import pandas as pd\n",
        "import numpy as np\n",
        "import skfuzzy as fuzz\n"
      ]
    },
    {
      "cell_type": "markdown",
      "metadata": {
        "id": "jaMX0308HYQN"
      },
      "source": []
    },
    {
      "cell_type": "code",
      "execution_count": null,
      "metadata": {
        "id": "0qv6ryNHAsTr"
      },
      "outputs": [],
      "source": [
        "import pandas as pd\n",
        "import numpy as np\n",
        "\n",
        "# 1. Baca data\n",
        "file_path = \"/Blood_samples_data_mentah_missing43.xlsx\"\n",
        "df = pd.read_excel(file_path)\n",
        "\n",
        "# 2. Imputasi awal dengan mean hanya untuk kolom numerik\n",
        "numeric_cols = df.select_dtypes(include=[np.number]).columns\n",
        "data = df.copy()\n",
        "data[numeric_cols] = data[numeric_cols].fillna(data[numeric_cols].mean())\n",
        "\n",
        "# 3. Siapkan data_array numerik saja (dan pastikan float)\n",
        "data_array = data[numeric_cols].to_numpy().T.astype(float)\n",
        "\n",
        "# 4. Tentukan jumlah cluster (misal 3)\n",
        "n_clusters = 5\n",
        "\n",
        "# 5. Jalankan Fuzzy C-Means\n",
        "import skfuzzy as fuzz\n",
        "cntr, u, u0, d, jm, p, fpc = fuzz.cluster.cmeans(\n",
        "    data_array, c=n_clusters, m=4, error=0.005, maxiter=1000, init=None\n",
        ")\n"
      ]
    },
    {
      "cell_type": "code",
      "execution_count": null,
      "metadata": {
        "id": "KjCcMXCCAuRU"
      },
      "outputs": [],
      "source": [
        "# Asumsi:\n",
        "# - numeric_cols: list kolom numerik yang ikut FCM\n",
        "# - cntr: hasil centroid FCM\n",
        "\n",
        "df_filled = df.copy()\n",
        "for idx in range(len(df)):\n",
        "    row = df.iloc[idx]\n",
        "    missing_cols = row[row.isnull()].index\n",
        "    if len(missing_cols) > 0:\n",
        "        # Cari cluster dengan membership tertinggi\n",
        "        cluster = np.argmax(u[:, idx])\n",
        "        for col in missing_cols:\n",
        "            # Pastikan kolom yang hilang adalah kolom numerik (ada di centroid)\n",
        "            if col in numeric_cols:\n",
        "                col_idx = numeric_cols.get_loc(col)  # pakai numeric_cols\n",
        "                df_filled.loc[idx, col] = cntr[cluster, col_idx]\n"
      ]
    },
    {
      "cell_type": "code",
      "execution_count": null,
      "metadata": {
        "colab": {
          "base_uri": "https://localhost:8080/"
        },
        "id": "oOjE2nOaIvZq",
        "outputId": "1f29a41a-e4d2-4dd6-9332-ee5deb6ccc02"
      },
      "outputs": [],
      "source": [
        "df_filled.to_excel(\"Blood_Sample_filled.xlsx\", index=False)\n",
        "print(\"Nilai hilang berhasil diisi dan file sudah disimpan sebagai 'Blood_Sample_filled.xlsx'\")"
      ]
    },
    {
      "cell_type": "code",
      "execution_count": null,
      "metadata": {
        "colab": {
          "base_uri": "https://localhost:8080/",
          "height": 280
        },
        "id": "k3Fqr8QVI2B5",
        "outputId": "20e6103d-c7f5-402b-ca2b-e54a3148eacf"
      },
      "outputs": [],
      "source": [
        "from google.colab import files\n",
        "files.download('Blood_Sample_filled.xlsx')"
      ]
    }
  ],
  "metadata": {
    "colab": {
      "provenance": []
    },
    "kernelspec": {
      "display_name": "Python 3",
      "name": "python3"
    },
    "language_info": {
      "name": "python"
    }
  },
  "nbformat": 4,
  "nbformat_minor": 0
}
